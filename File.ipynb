{
 "cells": [
  {
   "cell_type": "code",
   "execution_count": 1,
   "metadata": {
    "colab": {
     "base_uri": "https://localhost:8080/"
    },
    "id": "R0Wr4jBmxYJY",
    "outputId": "a45cda19-d87b-4f83-a223-771115d5507b"
   },
   "outputs": [
    {
     "name": "stdout",
     "output_type": "stream",
     "text": [
      "OR(0, 0) = 0\n",
      "AND(0, 0) = 0\n",
      "OR(0, 1) = 1\n",
      "AND(0, 1) = 0\n",
      "OR(1, 0) = 1\n",
      "AND(1, 0) = 0\n",
      "OR(1, 1) = 1\n",
      "AND(1, 1) = 1\n"
     ]
    }
   ],
   "source": [
    "import numpy as np\n",
    "\n",
    "def unitStep(v):\n",
    "    return 1 if v >= 0 else 0\n",
    "\n",
    "def perceptronModel(x, w, b):\n",
    "    return unitStep(np.dot(w, x) + b)\n",
    "\n",
    "def logicFunction(x, w, b):\n",
    "    return perceptronModel(x, w, b)\n",
    "\n",
    "test_cases = [\n",
    "    (0, 0),\n",
    "    (0, 1),\n",
    "    (1, 0),\n",
    "    (1, 1)\n",
    "]\n",
    "\n",
    "for x1, x2 in test_cases:\n",
    "    w = np.array([1, 1])\n",
    "    b_or = -0.5\n",
    "    b_and = -1.5\n",
    "\n",
    "    result_or = logicFunction(np.array([x1, x2]), w, b_or)\n",
    "    result_and = logicFunction(np.array([x1, x2]), w, b_and)\n",
    "\n",
    "    print(\"OR({}, {}) = {}\".format(x1, x2, result_or))\n",
    "    print(\"AND({}, {}) = {}\".format(x1, x2, result_and))"
   ]
  }
 ],
 "metadata": {
  "colab": {
   "provenance": []
  },
  "kernelspec": {
   "display_name": "Python 3 (ipykernel)",
   "language": "python",
   "name": "python3"
  },
  "language_info": {
   "codemirror_mode": {
    "name": "ipython",
    "version": 3
   },
   "file_extension": ".py",
   "mimetype": "text/x-python",
   "name": "python",
   "nbconvert_exporter": "python",
   "pygments_lexer": "ipython3",
   "version": "3.10.4"
  }
 },
 "nbformat": 4,
 "nbformat_minor": 4
}
